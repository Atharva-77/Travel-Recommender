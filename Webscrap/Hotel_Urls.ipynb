{
  "nbformat": 4,
  "nbformat_minor": 0,
  "metadata": {
    "kernelspec": {
      "display_name": "Python 3",
      "language": "python",
      "name": "python3"
    },
    "language_info": {
      "codemirror_mode": {
        "name": "ipython",
        "version": 3
      },
      "file_extension": ".py",
      "mimetype": "text/x-python",
      "name": "python",
      "nbconvert_exporter": "python",
      "pygments_lexer": "ipython3",
      "version": "3.7.3"
    },
    "colab": {
      "name": "Hotel_Urls.ipynb",
      "provenance": [],
      "include_colab_link": true
    }
  },
  "cells": [
    {
      "cell_type": "markdown",
      "metadata": {
        "id": "view-in-github",
        "colab_type": "text"
      },
      "source": [
        "<a href=\"https://colab.research.google.com/github/Atharva2018/Travel-Recommender/blob/master/Webscrap/Hotel_Urls.ipynb\" target=\"_parent\"><img src=\"https://colab.research.google.com/assets/colab-badge.svg\" alt=\"Open In Colab\"/></a>"
      ]
    },
    {
      "cell_type": "code",
      "metadata": {
        "id": "pGJJ9AEPR5C9",
        "colab_type": "code",
        "outputId": "d7ef5a77-cf63-43c0-d69e-580d736b2e5a",
        "colab": {
          "base_uri": "https://localhost:8080/",
          "height": 52
        }
      },
      "source": [
        "plc=\"https://www.tripadvisor.in/Hotels-g608471-Alappuzha_Alappuzha_District_Kerala-Hotels.html https://www.tripadvisor.in/Hotels-g303881-Munnar_Idukki_District_Kerala-Hotels.html\"\n",
        "urls=[]\n",
        "urls=list(plc.split(\" \"))\n",
        "urls\n",
        "# https://www.tripadvisor.in/SmartDeals-g297636-Thekkady_Idukki_District_Kerala-Hotel-Deals.html"
      ],
      "execution_count": 2,
      "outputs": [
        {
          "output_type": "execute_result",
          "data": {
            "text/plain": [
              "['https://www.tripadvisor.in/Hotels-g608471-Alappuzha_Alappuzha_District_Kerala-Hotels.html',\n",
              " 'https://www.tripadvisor.in/Hotels-g303881-Munnar_Idukki_District_Kerala-Hotels.html']"
            ]
          },
          "metadata": {
            "tags": []
          },
          "execution_count": 2
        }
      ]
    },
    {
      "cell_type": "code",
      "metadata": {
        "id": "lQD0QbqhR5DG",
        "colab_type": "code",
        "colab": {}
      },
      "source": [
        "import pandas as pd\n",
        "df_hotel_urls=pd.DataFrame(columns=['Hotel Links'])\n",
        "# urls=[\"https://www.tripadvisor.in/Hotels-g303881-Munnar_Idukki_District_Kerala-Hotels.html\"]"
      ],
      "execution_count": 0,
      "outputs": []
    },
    {
      "cell_type": "code",
      "metadata": {
        "id": "LnwuUmgGR5DL",
        "colab_type": "code",
        "outputId": "7873f4e9-4d2f-4578-f0de-9b6eadaf42a3",
        "colab": {
          "base_uri": "https://localhost:8080/",
          "height": 47
        }
      },
      "source": [
        "df_hotel_urls"
      ],
      "execution_count": 4,
      "outputs": [
        {
          "output_type": "execute_result",
          "data": {
            "text/html": [
              "<div>\n",
              "<style scoped>\n",
              "    .dataframe tbody tr th:only-of-type {\n",
              "        vertical-align: middle;\n",
              "    }\n",
              "\n",
              "    .dataframe tbody tr th {\n",
              "        vertical-align: top;\n",
              "    }\n",
              "\n",
              "    .dataframe thead th {\n",
              "        text-align: right;\n",
              "    }\n",
              "</style>\n",
              "<table border=\"1\" class=\"dataframe\">\n",
              "  <thead>\n",
              "    <tr style=\"text-align: right;\">\n",
              "      <th></th>\n",
              "      <th>Hotel Links</th>\n",
              "    </tr>\n",
              "  </thead>\n",
              "  <tbody>\n",
              "  </tbody>\n",
              "</table>\n",
              "</div>"
            ],
            "text/plain": [
              "Empty DataFrame\n",
              "Columns: [Hotel Links]\n",
              "Index: []"
            ]
          },
          "metadata": {
            "tags": []
          },
          "execution_count": 4
        }
      ]
    },
    {
      "cell_type": "code",
      "metadata": {
        "id": "jAsvRn8tR5DQ",
        "colab_type": "code",
        "outputId": "83a82600-129e-4632-f672-6c7089c7016c",
        "colab": {
          "base_uri": "https://localhost:8080/",
          "height": 52
        }
      },
      "source": [
        "from bs4 import BeautifulSoup\n",
        "import requests\n",
        "for i in urls:\n",
        "    r=requests.get(i)\n",
        "\n",
        "    r\n",
        "\n",
        "    c=r.content\n",
        "    len(c)\n",
        "\n",
        "    s=BeautifulSoup(c,\"html.parser\")\n",
        "    len(s)\n",
        "\n",
        "    name=s.find_all(\"div\",{\"class\":\"listing_title\"})\n",
        "\n",
        "    print(len(name),name[0].find('a').get('href'))\n",
        "\n",
        "    minimum=min(len(name),20)\n",
        "    minimum\n",
        "\n",
        "    #putting all links in a list. Then list is inserted into dataframe\n",
        "    list_urls=[]\n",
        "    for i in range(0,minimum):\n",
        "        list_urls.append(\"https://www.tripadvisor.in\"+name[i].find('a').get('href'))\n",
        "\n",
        "\n",
        "\n",
        "    import pandas as pd\n",
        "\n",
        "#     df_hotel_urls=pd.DataFrame(list_urls,columns=['Hotel Links'])\n",
        "    for i in list_urls:\n",
        "        df_hotel_urls = df_hotel_urls.append({'Hotel Links':i}, ignore_index=True)\n",
        "\n",
        "\n",
        "# df_hotel_urls"
      ],
      "execution_count": 5,
      "outputs": [
        {
          "output_type": "stream",
          "text": [
            "30 /Hotel_Review-g608471-d12130064-Reviews-Lake_Canopy-Alappuzha_Alappuzha_District_Kerala.html\n",
            "30 /Hotel_Review-g8342248-d10390860-Reviews-Parakkat_Nature_Hotels_Resorts-Pallivasal_Munnar_Idukki_District_Kerala.html\n"
          ],
          "name": "stdout"
        }
      ]
    },
    {
      "cell_type": "code",
      "metadata": {
        "id": "KcnrUoltR5DV",
        "colab_type": "code",
        "colab": {}
      },
      "source": [
        "import time"
      ],
      "execution_count": 0,
      "outputs": []
    },
    {
      "cell_type": "code",
      "metadata": {
        "id": "Q4EowCqOR5Da",
        "colab_type": "code",
        "outputId": "845454e9-719e-4fcf-c327-ee5ab936b747",
        "colab": {
          "base_uri": "https://localhost:8080/",
          "height": 34
        }
      },
      "source": [
        "list_urls[13]"
      ],
      "execution_count": 7,
      "outputs": [
        {
          "output_type": "execute_result",
          "data": {
            "text/plain": [
              "'https://www.tripadvisor.in/Hotel_Review-g5258996-d7272092-Reviews-Anna_Homestay-Chithirapuram_Munnar_Idukki_District_Kerala.html'"
            ]
          },
          "metadata": {
            "tags": []
          },
          "execution_count": 7
        }
      ]
    },
    {
      "cell_type": "code",
      "metadata": {
        "id": "jWGcwjWMR5Dg",
        "colab_type": "code",
        "outputId": "c8e744dc-6154-4f10-d962-0b5168c9fdc2",
        "colab": {
          "base_uri": "https://localhost:8080/",
          "height": 34
        }
      },
      "source": [
        "len(df_hotel_urls)"
      ],
      "execution_count": 8,
      "outputs": [
        {
          "output_type": "execute_result",
          "data": {
            "text/plain": [
              "40"
            ]
          },
          "metadata": {
            "tags": []
          },
          "execution_count": 8
        }
      ]
    },
    {
      "cell_type": "code",
      "metadata": {
        "id": "g1LMycx-R5Dl",
        "colab_type": "code",
        "outputId": "7312afc9-cdb6-4ba0-c498-701dc82dfcdd",
        "colab": {
          "base_uri": "https://localhost:8080/",
          "height": 197
        }
      },
      "source": [
        "df_hotel_urls.head(5)"
      ],
      "execution_count": 9,
      "outputs": [
        {
          "output_type": "execute_result",
          "data": {
            "text/html": [
              "<div>\n",
              "<style scoped>\n",
              "    .dataframe tbody tr th:only-of-type {\n",
              "        vertical-align: middle;\n",
              "    }\n",
              "\n",
              "    .dataframe tbody tr th {\n",
              "        vertical-align: top;\n",
              "    }\n",
              "\n",
              "    .dataframe thead th {\n",
              "        text-align: right;\n",
              "    }\n",
              "</style>\n",
              "<table border=\"1\" class=\"dataframe\">\n",
              "  <thead>\n",
              "    <tr style=\"text-align: right;\">\n",
              "      <th></th>\n",
              "      <th>Hotel Links</th>\n",
              "    </tr>\n",
              "  </thead>\n",
              "  <tbody>\n",
              "    <tr>\n",
              "      <th>0</th>\n",
              "      <td>https://www.tripadvisor.in/Hotel_Review-g60847...</td>\n",
              "    </tr>\n",
              "    <tr>\n",
              "      <th>1</th>\n",
              "      <td>https://www.tripadvisor.in/Hotel_Review-g60847...</td>\n",
              "    </tr>\n",
              "    <tr>\n",
              "      <th>2</th>\n",
              "      <td>https://www.tripadvisor.in/Hotel_Review-g60847...</td>\n",
              "    </tr>\n",
              "    <tr>\n",
              "      <th>3</th>\n",
              "      <td>https://www.tripadvisor.in/Hotel_Review-g60847...</td>\n",
              "    </tr>\n",
              "    <tr>\n",
              "      <th>4</th>\n",
              "      <td>https://www.tripadvisor.in/Hotel_Review-g60847...</td>\n",
              "    </tr>\n",
              "  </tbody>\n",
              "</table>\n",
              "</div>"
            ],
            "text/plain": [
              "                                         Hotel Links\n",
              "0  https://www.tripadvisor.in/Hotel_Review-g60847...\n",
              "1  https://www.tripadvisor.in/Hotel_Review-g60847...\n",
              "2  https://www.tripadvisor.in/Hotel_Review-g60847...\n",
              "3  https://www.tripadvisor.in/Hotel_Review-g60847...\n",
              "4  https://www.tripadvisor.in/Hotel_Review-g60847..."
            ]
          },
          "metadata": {
            "tags": []
          },
          "execution_count": 9
        }
      ]
    },
    {
      "cell_type": "code",
      "metadata": {
        "id": "Jkb_H2sDR5Dp",
        "colab_type": "code",
        "colab": {}
      },
      "source": [
        "import pandas as pd\n",
        "df_each_hotel=pd.DataFrame(columns=['Hotel Names','Price','Rating','Amenities','Info','Attractions','Address','City'])"
      ],
      "execution_count": 0,
      "outputs": []
    },
    {
      "cell_type": "code",
      "metadata": {
        "scrolled": true,
        "id": "KSOCicxHR5Dt",
        "colab_type": "code",
        "colab": {}
      },
      "source": [
        "for i in range(len(df_hotel_urls)) : \n",
        "    link=df_hotel_urls.iloc[i, 0]\n",
        "    r=requests.get(link)\n",
        "    \n",
        "    c=r.content\n",
        "    s=BeautifulSoup(c,\"html.parser\")\n",
        "    \n",
        "    dictionary_details={}\n",
        "    \n",
        "    #City\n",
        "    try:\n",
        "        list_place=[]\n",
        "        place=s.find_all(\"span\",{\"class\":\"hotels-hotel-review-about-with-photos-PopIndex__popIndex--zNSxv\"})\n",
        "        list_place=list(place[0].text.split(\" \"))\n",
        "        dictionary_details['City']=list_place[-1]#last one is always place name\n",
        "    except:\n",
        "        dictionary_details['City']=float('Nan')\n",
        "        \n",
        "\n",
        "    #Hotel Name\n",
        "    name=s.find_all(\"h1\")\n",
        "    dictionary_details['Hotel Names']=name[1].text\n",
        "\n",
        "    #Price\n",
        "    try:\n",
        "        price=s.find_all(\"div\" ,{\"class\":\"hotels-hotel-offers-DominantOffer__price--D-ycN\"})\n",
        "        dictionary_details['Price']=price[0].text[2:]\n",
        "    except:\n",
        "        try:\n",
        "            \n",
        "            price=s.find_all(\"div\" ,{\"class\":\"hotels-hotel-offers-DetailChevronOffer__price--py2LH\"})\n",
        "            dictionary_details['Price']=price[0].text[2:]\n",
        "        except:\n",
        "            dictionary_details['Price']=float('Nan')\n",
        "    \n",
        "    #Ratinf\n",
        "    try:\n",
        "        rating=s.find_all(\"span\" ,{\"class\":\"hotels-hotel-review-about-with-photos-Reviews__overallRating--vElGA\"})\n",
        "        dictionary_details['Rating']=rating[0].text\n",
        "    except:\n",
        "        dictionary_details['Rating']=float(\"Nan\")\n",
        "        \n",
        "    #Aminitis\n",
        "    try:\n",
        "        amenities=s.find_all(\"div\" ,{\"class\":\"hotels-hr-about-amenities-AmenityGroup__amenitiesList--3MdFn\"})\n",
        "        dictionary_details['Amenities']=amenities[0].text\n",
        "    except:\n",
        "        dictionary_details['Amenities']=float('Nan')\n",
        "        \n",
        "    #INfo\n",
        "    try:\n",
        "        info=s.find_all(\"div\" ,{\"class\":\"cPQsENeY\"})\n",
        "        dictionary_details['Info']=info[0].text\n",
        "    except:\n",
        "        dictionary_details['Info']=float('Nan')\n",
        "\n",
        "    #Attractions\n",
        "#     print(attractions_nearby[4:][0].text,\",\", attractions_nearby[4:][1].text,\",\",\n",
        "#     attractions_nearby[4:][2].text,\",\", attractions_nearby[4:][3].text)\n",
        "#     len(attractions_nearby[4:])\n",
        "    try:\n",
        "        attractions_nearby=s.find_all(\"div\" ,{\"class\":\"hotels-hotel-review-location-NearbyLocation__name--1pAvV\"})\n",
        "        Full_Attraction=\"\"\n",
        "        Full_Attraction=attractions_nearby[4:][0].text, attractions_nearby[4:][1].text,attractions_nearby[4:][2].text, attractions_nearby[4:][3].text\n",
        "        dictionary_details['Attractions']=Full_Attraction\n",
        "    \n",
        "    except:\n",
        "        dictionary_details['Attractions']=float('Nan')\n",
        "\n",
        "\n",
        "    \n",
        "\n",
        "    #add\n",
        "    try:\n",
        "        address=s.find_all(\"span\" ,{\"class\":\"public-business-listing-ContactInfo__ui_link--1_7Zp public-business-listing-ContactInfo__level_4--3JgmI\"})\n",
        "        dictionary_details['Address']=address[0].text\n",
        "    except:\n",
        "        dictionary_details['Address']=float('Nan')\n",
        "\n",
        "    \n",
        "    df_each_hotel=df_each_hotel.append(dictionary_details,ignore_index=True)\n",
        "    \n",
        "    time.sleep(1)\n",
        "    \n"
      ],
      "execution_count": 0,
      "outputs": []
    },
    {
      "cell_type": "code",
      "metadata": {
        "scrolled": false,
        "id": "TYrdi_5zR5D0",
        "colab_type": "code",
        "outputId": "01e0473e-1edc-4549-b5b3-68b085ae72e3",
        "colab": {
          "base_uri": "https://localhost:8080/",
          "height": 281
        }
      },
      "source": [
        "df_each_hotel.head(5)"
      ],
      "execution_count": 12,
      "outputs": [
        {
          "output_type": "execute_result",
          "data": {
            "text/html": [
              "<div>\n",
              "<style scoped>\n",
              "    .dataframe tbody tr th:only-of-type {\n",
              "        vertical-align: middle;\n",
              "    }\n",
              "\n",
              "    .dataframe tbody tr th {\n",
              "        vertical-align: top;\n",
              "    }\n",
              "\n",
              "    .dataframe thead th {\n",
              "        text-align: right;\n",
              "    }\n",
              "</style>\n",
              "<table border=\"1\" class=\"dataframe\">\n",
              "  <thead>\n",
              "    <tr style=\"text-align: right;\">\n",
              "      <th></th>\n",
              "      <th>Hotel Names</th>\n",
              "      <th>Price</th>\n",
              "      <th>Rating</th>\n",
              "      <th>Amenities</th>\n",
              "      <th>Info</th>\n",
              "      <th>Attractions</th>\n",
              "      <th>Address</th>\n",
              "      <th>City</th>\n",
              "    </tr>\n",
              "  </thead>\n",
              "  <tbody>\n",
              "    <tr>\n",
              "      <th>0</th>\n",
              "      <td>Lake Canopy</td>\n",
              "      <td>$ 115</td>\n",
              "      <td>5.0</td>\n",
              "      <td>Free parkingFree High Speed Internet (WiFi)Fit...</td>\n",
              "      <td>Lake Canopy strategically located in Punnamada...</td>\n",
              "      <td>(Kerala Backwaters, Mararikulam Beach, Alleppe...</td>\n",
              "      <td>Aspinwall Road Komalapuram, North Aaryad P.O, ...</td>\n",
              "      <td>Alappuzha</td>\n",
              "    </tr>\n",
              "    <tr>\n",
              "      <th>1</th>\n",
              "      <td>Uday Backwater Resort</td>\n",
              "      <td>$ 91</td>\n",
              "      <td>5.0</td>\n",
              "      <td>Free parkingFree High Speed Internet (WiFi)Fit...</td>\n",
              "      <td>Uday backwater Resort in Alleppy is a destinat...</td>\n",
              "      <td>(Kerala Backwaters, Mararikulam Beach, Alleppe...</td>\n",
              "      <td>1x /2A - Avalookunnu .P.O,Punnamada Near punna...</td>\n",
              "      <td>Alappuzha</td>\n",
              "    </tr>\n",
              "    <tr>\n",
              "      <th>2</th>\n",
              "      <td>Warmth Lake Haven</td>\n",
              "      <td>$ 62</td>\n",
              "      <td>4.5</td>\n",
              "      <td>Free parkingFree High Speed Internet (WiFi)Poo...</td>\n",
              "      <td>Warmth Lake Haven, a solitary island situated ...</td>\n",
              "      <td>(Ambalapuzha Sree Krishna Temple, Revi Karunak...</td>\n",
              "      <td>Near Pulikkakaavu Temple Chempumpuram, Alappuz...</td>\n",
              "      <td>Alappuzha</td>\n",
              "    </tr>\n",
              "    <tr>\n",
              "      <th>3</th>\n",
              "      <td>Ramada by Wyndham Alleppey</td>\n",
              "      <td>$ 75</td>\n",
              "      <td>4.0</td>\n",
              "      <td>Free parkingFree High Speed Internet (WiFi)Fit...</td>\n",
              "      <td>A picturesque 5 Star Classified Resort Hotel a...</td>\n",
              "      <td>NaN</td>\n",
              "      <td>Nehru Trophy Finishing Point Punnamada, Alappu...</td>\n",
              "      <td>Alappuzha</td>\n",
              "    </tr>\n",
              "    <tr>\n",
              "      <th>4</th>\n",
              "      <td>Oxygen Resorts Alleppey</td>\n",
              "      <td>$ 67</td>\n",
              "      <td>5.0</td>\n",
              "      <td>Free parkingFree internetFitness Centre with G...</td>\n",
              "      <td>Oxygen Resorts Allepey is set amidst the tropi...</td>\n",
              "      <td>NaN</td>\n",
              "      <td>Boat Jetty Road Finishing Point, Alappuzha 688...</td>\n",
              "      <td>Alappuzha</td>\n",
              "    </tr>\n",
              "  </tbody>\n",
              "</table>\n",
              "</div>"
            ],
            "text/plain": [
              "                  Hotel Names  ...       City\n",
              "0                 Lake Canopy  ...  Alappuzha\n",
              "1       Uday Backwater Resort  ...  Alappuzha\n",
              "2           Warmth Lake Haven  ...  Alappuzha\n",
              "3  Ramada by Wyndham Alleppey  ...  Alappuzha\n",
              "4     Oxygen Resorts Alleppey  ...  Alappuzha\n",
              "\n",
              "[5 rows x 8 columns]"
            ]
          },
          "metadata": {
            "tags": []
          },
          "execution_count": 12
        }
      ]
    },
    {
      "cell_type": "code",
      "metadata": {
        "id": "uPFjPaFVR5D5",
        "colab_type": "code",
        "colab": {}
      },
      "source": [
        "df_each_hotel.to_csv('Travel_Rec1.csv',index=False, encoding = 'utf-8')"
      ],
      "execution_count": 0,
      "outputs": []
    },
    {
      "cell_type": "markdown",
      "metadata": {
        "id": "_SbrmWDyR5D9",
        "colab_type": "text"
      },
      "source": [
        "# Users dataset"
      ]
    },
    {
      "cell_type": "code",
      "metadata": {
        "id": "RP05pbmuR5D-",
        "colab_type": "code",
        "outputId": "229644a0-d2fa-4f18-9147-2b4000472900",
        "colab": {
          "base_uri": "https://localhost:8080/",
          "height": 47
        }
      },
      "source": [
        "df_users_data=pd.DataFrame(columns=[\"User Name\",\"Profile link\",\"Rating\",\"Hotel Name\"])\n",
        "df_users_data"
      ],
      "execution_count": 14,
      "outputs": [
        {
          "output_type": "execute_result",
          "data": {
            "text/html": [
              "<div>\n",
              "<style scoped>\n",
              "    .dataframe tbody tr th:only-of-type {\n",
              "        vertical-align: middle;\n",
              "    }\n",
              "\n",
              "    .dataframe tbody tr th {\n",
              "        vertical-align: top;\n",
              "    }\n",
              "\n",
              "    .dataframe thead th {\n",
              "        text-align: right;\n",
              "    }\n",
              "</style>\n",
              "<table border=\"1\" class=\"dataframe\">\n",
              "  <thead>\n",
              "    <tr style=\"text-align: right;\">\n",
              "      <th></th>\n",
              "      <th>User Name</th>\n",
              "      <th>Profile link</th>\n",
              "      <th>Rating</th>\n",
              "      <th>Hotel Name</th>\n",
              "    </tr>\n",
              "  </thead>\n",
              "  <tbody>\n",
              "  </tbody>\n",
              "</table>\n",
              "</div>"
            ],
            "text/plain": [
              "Empty DataFrame\n",
              "Columns: [User Name, Profile link, Rating, Hotel Name]\n",
              "Index: []"
            ]
          },
          "metadata": {
            "tags": []
          },
          "execution_count": 14
        }
      ]
    },
    {
      "cell_type": "code",
      "metadata": {
        "id": "0kyb6_r1R5ED",
        "colab_type": "code",
        "colab": {}
      },
      "source": [
        "for i in range(len(df_hotel_urls)) : \n",
        "    link=df_hotel_urls.iloc[i, 0]\n",
        "    r=requests.get(link)\n",
        "    \n",
        "    c=r.content\n",
        "    s=BeautifulSoup(c,\"html.parser\")\n",
        "    for i in range(0,5):\n",
        "    #Name and link\n",
        "        dictionary_details={}\n",
        "\n",
        "        user_name=s.find_all(\"a\",{\"class\":\"ui_header_link social-member-event-MemberEventOnObjectBlock__member--35-jC\"})\n",
        "        review_user_name=user_name[i].text\n",
        "        review_user_link=\"https://www.tripadvisor.in\"+user_name[i].get(\"href\") \n",
        "        dictionary_details[\"User Name\"]=review_user_name\n",
        "        dictionary_details[\"Profile link\"]=review_user_link\n",
        "\n",
        "        # user_rating[0]\n",
        "\n",
        "        user_rating=s.find_all(\"div\",{\"class\":\"location-review-review-list-parts-RatingLine__bubbles--GcJvM\"})\n",
        "        rate=0\n",
        "        x=user_rating[i]\n",
        "        if x.find(\"span\",{\"class\":\"ui_bubble_rating bubble_50\"}):\n",
        "            rate=5\n",
        "        elif x.find(\"span\",{\"class\":\"ui_bubble_rating bubble_40\"}):\n",
        "            rate=4\n",
        "        elif x.find(\"span\",{\"class\":\"ui_bubble_rating bubble_30\"}):\n",
        "            rate=3\n",
        "        elif x.find(\"span\",{\"class\":\"ui_bubble_rating bubble_20\"}):\n",
        "            rate=2\n",
        "        elif x.find(\"span\",{\"class\":\"ui_bubble_rating bubble_10\"}):\n",
        "            rate=1\n",
        "\n",
        "        dictionary_details[\"Rating\"]=rate\n",
        "        hotel_name=s.find_all(\"h1\")\n",
        "        dictionary_details['Hotel Name']=hotel_name[1].text\n",
        "        df_users_data=df_users_data.append(dictionary_details,ignore_index=True)\n"
      ],
      "execution_count": 0,
      "outputs": []
    },
    {
      "cell_type": "code",
      "metadata": {
        "id": "i2zAfcb0R5EH",
        "colab_type": "code",
        "outputId": "6461b854-9952-463f-b897-d0857fd7a71c",
        "colab": {
          "base_uri": "https://localhost:8080/",
          "height": 197
        }
      },
      "source": [
        "df_users_data.head(5)"
      ],
      "execution_count": 16,
      "outputs": [
        {
          "output_type": "execute_result",
          "data": {
            "text/html": [
              "<div>\n",
              "<style scoped>\n",
              "    .dataframe tbody tr th:only-of-type {\n",
              "        vertical-align: middle;\n",
              "    }\n",
              "\n",
              "    .dataframe tbody tr th {\n",
              "        vertical-align: top;\n",
              "    }\n",
              "\n",
              "    .dataframe thead th {\n",
              "        text-align: right;\n",
              "    }\n",
              "</style>\n",
              "<table border=\"1\" class=\"dataframe\">\n",
              "  <thead>\n",
              "    <tr style=\"text-align: right;\">\n",
              "      <th></th>\n",
              "      <th>User Name</th>\n",
              "      <th>Profile link</th>\n",
              "      <th>Rating</th>\n",
              "      <th>Hotel Name</th>\n",
              "    </tr>\n",
              "  </thead>\n",
              "  <tbody>\n",
              "    <tr>\n",
              "      <th>0</th>\n",
              "      <td>Amittraveler</td>\n",
              "      <td>https://www.tripadvisor.in/Profile/Amittraveler</td>\n",
              "      <td>4</td>\n",
              "      <td>Lake Canopy</td>\n",
              "    </tr>\n",
              "    <tr>\n",
              "      <th>1</th>\n",
              "      <td>Rachna</td>\n",
              "      <td>https://www.tripadvisor.in/Profile/Rachneer</td>\n",
              "      <td>3</td>\n",
              "      <td>Lake Canopy</td>\n",
              "    </tr>\n",
              "    <tr>\n",
              "      <th>2</th>\n",
              "      <td>Amey Naik</td>\n",
              "      <td>https://www.tripadvisor.in/Profile/AmeyNaik123</td>\n",
              "      <td>5</td>\n",
              "      <td>Lake Canopy</td>\n",
              "    </tr>\n",
              "    <tr>\n",
              "      <th>3</th>\n",
              "      <td>IanGBradford</td>\n",
              "      <td>https://www.tripadvisor.in/Profile/IanGBradford</td>\n",
              "      <td>5</td>\n",
              "      <td>Lake Canopy</td>\n",
              "    </tr>\n",
              "    <tr>\n",
              "      <th>4</th>\n",
              "      <td>lccarey2018</td>\n",
              "      <td>https://www.tripadvisor.in/Profile/lccarey2018</td>\n",
              "      <td>5</td>\n",
              "      <td>Lake Canopy</td>\n",
              "    </tr>\n",
              "  </tbody>\n",
              "</table>\n",
              "</div>"
            ],
            "text/plain": [
              "      User Name  ...   Hotel Name\n",
              "0  Amittraveler  ...  Lake Canopy\n",
              "1        Rachna  ...  Lake Canopy\n",
              "2     Amey Naik  ...  Lake Canopy\n",
              "3  IanGBradford  ...  Lake Canopy\n",
              "4   lccarey2018  ...  Lake Canopy\n",
              "\n",
              "[5 rows x 4 columns]"
            ]
          },
          "metadata": {
            "tags": []
          },
          "execution_count": 16
        }
      ]
    },
    {
      "cell_type": "code",
      "metadata": {
        "id": "v9zIWLi4R5EN",
        "colab_type": "code",
        "outputId": "4256a700-0ff0-402a-9060-aee8b15b1824",
        "colab": {
          "base_uri": "https://localhost:8080/",
          "height": 34
        }
      },
      "source": [
        "len(df_users_data)"
      ],
      "execution_count": 17,
      "outputs": [
        {
          "output_type": "execute_result",
          "data": {
            "text/plain": [
              "200"
            ]
          },
          "metadata": {
            "tags": []
          },
          "execution_count": 17
        }
      ]
    },
    {
      "cell_type": "code",
      "metadata": {
        "id": "sLevjv8eR94m",
        "colab_type": "code",
        "colab": {}
      },
      "source": [
        ""
      ],
      "execution_count": 0,
      "outputs": []
    },
    {
      "cell_type": "markdown",
      "metadata": {
        "id": "S3nJ4s4iR_Rl",
        "colab_type": "text"
      },
      "source": [
        "# Itterating through users data"
      ]
    },
    {
      "cell_type": "code",
      "metadata": {
        "id": "hkCEmxCKR-Fo",
        "colab_type": "code",
        "colab": {}
      },
      "source": [
        "l=(df_users_data.iloc[0,1])\n"
      ],
      "execution_count": 0,
      "outputs": []
    },
    {
      "cell_type": "code",
      "metadata": {
        "id": "4sMeaD8bR-Oz",
        "colab_type": "code",
        "outputId": "2a83d8e8-ea90-4a89-c04a-07a5d3b01757",
        "colab": {
          "base_uri": "https://localhost:8080/",
          "height": 34
        }
      },
      "source": [
        "name=df_users_data.iloc[1,0]\n",
        "name"
      ],
      "execution_count": 19,
      "outputs": [
        {
          "output_type": "execute_result",
          "data": {
            "text/plain": [
              "'Rachna'"
            ]
          },
          "metadata": {
            "tags": []
          },
          "execution_count": 19
        }
      ]
    },
    {
      "cell_type": "code",
      "metadata": {
        "id": "e7Xe0VaaR-WB",
        "colab_type": "code",
        "colab": {}
      },
      "source": [
        "r=requests.get(l)\n",
        "\n",
        "c=r.content\n",
        "s=BeautifulSoup(c,\"html.parser\")"
      ],
      "execution_count": 0,
      "outputs": []
    },
    {
      "cell_type": "code",
      "metadata": {
        "id": "7gmWcRy8pTjc",
        "colab_type": "code",
        "colab": {}
      },
      "source": [
        "each_user_rating_place=s.find_all(\"div\",{\"class\":\"social-section-review-ReviewSection__review--1bQxT social-section-review-ReviewSection__linked--kI3zg\"})\n",
        "rate=0\n",
        "x1=each_user_rating_place[0]\n",
        "if x1.find(\"span\",{\"class\":\"ui_bubble_rating bubble_50\"}):\n",
        "    rate=5\n",
        "elif x1.find(\"span\",{\"class\":\"ui_bubble_rating bubble_40\"}):\n",
        "    rate=4\n",
        "elif x1.find(\"span\",{\"class\":\"ui_bubble_rating bubble_30\"}):\n",
        "    rate=3\n",
        "elif x1.find(\"span\",{\"class\":\"ui_bubble_rating bubble_20\"}):\n",
        "    rate=2\n",
        "elif x1.find(\"span\",{\"class\":\"ui_bubble_rating bubble_10\"}):\n",
        "    rate=1\n",
        "#print(x1)"
      ],
      "execution_count": 0,
      "outputs": []
    },
    {
      "cell_type": "code",
      "metadata": {
        "id": "zCqYsMaOqVxi",
        "colab_type": "code",
        "outputId": "c225508f-64f6-41a5-ea0b-5e4633b0583f",
        "colab": {
          "base_uri": "https://localhost:8080/",
          "height": 34
        }
      },
      "source": [
        "city=s.find_all(\"div\",{\"class\":\"social-poi-POIObject__poi_location--3hevu social-poi-POIObject__with_bubble--bbi8o\"})\n",
        "city[3].text\n",
        "len(city)"
      ],
      "execution_count": 22,
      "outputs": [
        {
          "output_type": "execute_result",
          "data": {
            "text/plain": [
              "7"
            ]
          },
          "metadata": {
            "tags": []
          },
          "execution_count": 22
        }
      ]
    },
    {
      "cell_type": "code",
      "metadata": {
        "id": "_3K2dS4o8qhI",
        "colab_type": "code",
        "colab": {}
      },
      "source": [
        ""
      ],
      "execution_count": 0,
      "outputs": []
    },
    {
      "cell_type": "code",
      "metadata": {
        "id": "IQ5daUDG-ZTA",
        "colab_type": "code",
        "outputId": "10583e4f-d784-4c42-a00a-c058a555f572",
        "colab": {
          "base_uri": "https://localhost:8080/",
          "height": 141
        }
      },
      "source": [
        "for i in range(0,len(city)):\n",
        "  each_user_rating_place=s.find_all(\"div\",{\"class\":\"social-section-review-ReviewSection__review--1bQxT social-section-review-ReviewSection__linked--kI3zg\"})\n",
        "  rate=0\n",
        "  x1=each_user_rating_place[i]\n",
        "  if x1.find(\"span\",{\"class\":\"ui_bubble_rating bubble_50\"}):\n",
        "      rate=5\n",
        "  elif x1.find(\"span\",{\"class\":\"ui_bubble_rating bubble_40\"}):\n",
        "      rate=4\n",
        "  elif x1.find(\"span\",{\"class\":\"ui_bubble_rating bubble_30\"}):\n",
        "      rate=3\n",
        "  elif x1.find(\"span\",{\"class\":\"ui_bubble_rating bubble_20\"}):\n",
        "      rate=2\n",
        "  elif x1.find(\"span\",{\"class\":\"ui_bubble_rating bubble_10\"}):\n",
        "      rate=1\n",
        "  city=s.find_all(\"div\",{\"class\":\"social-poi-POIObject__poi_location--3hevu social-poi-POIObject__with_bubble--bbi8o\"})\n",
        "  print(rate,  city[i].text)\n",
        "    "
      ],
      "execution_count": 23,
      "outputs": [
        {
          "output_type": "stream",
          "text": [
            "4 Alappuzha, India\n",
            "5 Kochi (Cochin), India\n",
            "2 Jaisalmer, India\n",
            "4 Jaisalmer, India\n",
            "2 Jaisalmer, India\n",
            "3 Jaisalmer, India\n",
            "4 Srinagar, India\n"
          ],
          "name": "stdout"
        }
      ]
    },
    {
      "cell_type": "code",
      "metadata": {
        "id": "m3gCad5T-ZbC",
        "colab_type": "code",
        "colab": {}
      },
      "source": [
        ""
      ],
      "execution_count": 0,
      "outputs": []
    },
    {
      "cell_type": "code",
      "metadata": {
        "id": "cPOkIgtj-Zh0",
        "colab_type": "code",
        "colab": {}
      },
      "source": [
        "df_final=pd.DataFrame(columns=['User Name','profile link','place','rating'])"
      ],
      "execution_count": 0,
      "outputs": []
    },
    {
      "cell_type": "markdown",
      "metadata": {
        "id": "SJvd9N3O-a2z",
        "colab_type": "text"
      },
      "source": [
        "# Using for loop to combine the above"
      ]
    },
    {
      "cell_type": "code",
      "metadata": {
        "id": "9ouJ1wai-YSP",
        "colab_type": "code",
        "colab": {}
      },
      "source": [
        "for j in range(0,len(df_users_data)):\n",
        "  dictionary_details={}\n",
        "  # dictionary_details['User Name']=df_users_data.iloc[j,0]\n",
        "  # dictionary_details['profile link']=df_users_data.iloc[j,1]\n",
        "\n",
        "  l=df_users_data.iloc[j,1]\n",
        "  r1=requests.get(l)\n",
        "  c1=r1.content\n",
        "  s1=BeautifulSoup(c1,\"html.parser\")\n",
        "\n",
        "  for i in range(0,len(city)):\n",
        "    dictionary_details['User Name']=df_users_data.iloc[j,0]\n",
        "    dictionary_details['profile link']=df_users_data.iloc[j,1]\n",
        "\n",
        "\n",
        "    each_user_rating_place=s.find_all(\"div\",{\"class\":\"social-section-review-ReviewSection__review--1bQxT social-section-review-ReviewSection__linked--kI3zg\"})\n",
        "    rate=0\n",
        "    x1=each_user_rating_place[i]\n",
        "    if x1.find(\"span\",{\"class\":\"ui_bubble_rating bubble_50\"}):\n",
        "        rate=5\n",
        "    elif x1.find(\"span\",{\"class\":\"ui_bubble_rating bubble_40\"}):\n",
        "        rate=4\n",
        "    elif x1.find(\"span\",{\"class\":\"ui_bubble_rating bubble_30\"}):\n",
        "        rate=3\n",
        "    elif x1.find(\"span\",{\"class\":\"ui_bubble_rating bubble_20\"}):\n",
        "        rate=2\n",
        "    elif x1.find(\"span\",{\"class\":\"ui_bubble_rating bubble_10\"}):\n",
        "        rate=1\n",
        "    city=s.find_all(\"div\",{\"class\":\"social-poi-POIObject__poi_location--3hevu social-poi-POIObject__with_bubble--bbi8o\"})\n",
        "\n",
        "    dictionary_details['place']=city[i].text\n",
        "    dictionary_details['rating']=rate\n",
        "\n",
        "    \n",
        "    df_final=df_final.append(dictionary_details,ignore_index=True)\n",
        "\n",
        "\n",
        "\n"
      ],
      "execution_count": 0,
      "outputs": []
    },
    {
      "cell_type": "code",
      "metadata": {
        "id": "FWyP5U4dO68f",
        "colab_type": "code",
        "colab": {
          "base_uri": "https://localhost:8080/",
          "height": 47
        },
        "outputId": "1d2dec77-e6f4-4a0a-cd13-aa9b10f0dfe8"
      },
      "source": [
        "df_final.head(5)"
      ],
      "execution_count": 27,
      "outputs": [
        {
          "output_type": "execute_result",
          "data": {
            "text/html": [
              "<div>\n",
              "<style scoped>\n",
              "    .dataframe tbody tr th:only-of-type {\n",
              "        vertical-align: middle;\n",
              "    }\n",
              "\n",
              "    .dataframe tbody tr th {\n",
              "        vertical-align: top;\n",
              "    }\n",
              "\n",
              "    .dataframe thead th {\n",
              "        text-align: right;\n",
              "    }\n",
              "</style>\n",
              "<table border=\"1\" class=\"dataframe\">\n",
              "  <thead>\n",
              "    <tr style=\"text-align: right;\">\n",
              "      <th></th>\n",
              "      <th>User Name</th>\n",
              "      <th>profile link</th>\n",
              "      <th>place</th>\n",
              "      <th>rating</th>\n",
              "    </tr>\n",
              "  </thead>\n",
              "  <tbody>\n",
              "  </tbody>\n",
              "</table>\n",
              "</div>"
            ],
            "text/plain": [
              "Empty DataFrame\n",
              "Columns: [User Name, profile link, place, rating]\n",
              "Index: []"
            ]
          },
          "metadata": {
            "tags": []
          },
          "execution_count": 27
        }
      ]
    },
    {
      "cell_type": "code",
      "metadata": {
        "id": "X69-IoJWRTav",
        "colab_type": "code",
        "colab": {}
      },
      "source": [
        ""
      ],
      "execution_count": 0,
      "outputs": []
    }
  ]
}