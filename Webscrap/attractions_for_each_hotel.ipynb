{
  "nbformat": 4,
  "nbformat_minor": 0,
  "metadata": {
    "colab": {
      "name": "attractions_for_each_hotel.ipynb",
      "provenance": [],
      "collapsed_sections": [],
      "toc_visible": true,
      "authorship_tag": "ABX9TyNzbrsYZiwVUpNl23vX6YA6",
      "include_colab_link": true
    },
    "kernelspec": {
      "name": "python3",
      "display_name": "Python 3"
    }
  },
  "cells": [
    {
      "cell_type": "markdown",
      "metadata": {
        "id": "view-in-github",
        "colab_type": "text"
      },
      "source": [
        "<a href=\"https://colab.research.google.com/github/Atharva2018/Travel-Recommender/blob/master/Webscrap/attractions_for_each_hotel.ipynb\" target=\"_parent\"><img src=\"https://colab.research.google.com/assets/colab-badge.svg\" alt=\"Open In Colab\"/></a>"
      ]
    },
    {
      "cell_type": "code",
      "metadata": {
        "id": "yKlpkXN6E4G3",
        "colab_type": "code",
        "outputId": "56e3445e-38be-44d2-e038-e4b530e043e7",
        "colab": {
          "base_uri": "https://localhost:8080/",
          "height": 34
        }
      },
      "source": [
        "from bs4 import BeautifulSoup\n",
        "import requests\n",
        "r=requests.get(\"https://www.tripadvisor.in/Attractions-g608471-Activities-Alappuzha_Alappuzha_District_Kerala.html\")\n",
        "r"
      ],
      "execution_count": 1,
      "outputs": [
        {
          "output_type": "execute_result",
          "data": {
            "text/plain": [
              "<Response [200]>"
            ]
          },
          "metadata": {
            "tags": []
          },
          "execution_count": 1
        }
      ]
    },
    {
      "cell_type": "code",
      "metadata": {
        "id": "7Duz-KM1HCfY",
        "colab_type": "code",
        "colab": {}
      },
      "source": [
        ""
      ],
      "execution_count": 0,
      "outputs": []
    },
    {
      "cell_type": "code",
      "metadata": {
        "id": "CgkXbr80OvO_",
        "colab_type": "code",
        "colab": {}
      },
      "source": [
        "c=r.content\n",
        "s=BeautifulSoup(c,\"html.parser\")\n"
      ],
      "execution_count": 0,
      "outputs": []
    },
    {
      "cell_type": "code",
      "metadata": {
        "id": "bMi_ITFGO1zD",
        "colab_type": "code",
        "outputId": "eb9ba631-d8da-4ee0-ee4d-8de7aa7e53df",
        "colab": {
          "base_uri": "https://localhost:8080/",
          "height": 881
        }
      },
      "source": [
        "attraction_name=s.find_all(\"div\" ,{\"class\":\"attractions-carousel-shelf-ShelfCarouselItem__item_wrapper--3rjPx attractions-carousel-shelf-ShelfCarouselItem__default_width--1ZGAN\"})\n",
        "for i in range(0,42):\n",
        "  print(attraction_name[i].text)"
      ],
      "execution_count": 3,
      "outputs": [
        {
          "output_type": "stream",
          "text": [
            "Sacred & Religious Sites\n",
            "Nature & Parks\n",
            "Sights & Landmarks\n",
            "Likely to Sell Out\n",
            "Points of Interest & Landmarks\n",
            "Day Cruises\n",
            "Tours & Sightseeing\n",
            "Private Sightseeing Tours\n",
            "Outdoor Activities\n",
            "Cultural Tours\n",
            "Weddings & Honeymoons\n",
            "Private & Custom Tours\n",
            "Ports of Call Tours\n",
            "Cruises, Sailing & Water Tours\n",
            "Bus Tours\n",
            "Cultural & Theme Tours\n",
            "Private Day Trips\n",
            "Multi-day Tours\n",
            "Full-day Tours\n",
            "Shore Excursions\n",
            "Day Trips & Excursions\n",
            "Walking & Biking Tours\n",
            "4WD, ATV & Off-Road Tours\n",
            "Luxury & Special Occasions\n",
            "Bike & Mountain Bike Tours\n",
            "Self-guided Tours & Rentals\n",
            "Honeymoon Packages\n",
            "Overnight Tours\n",
            "Half-day Tours\n",
            "Luxury Tours\n",
            "Eco Tours\n",
            "Romantic Tours\n",
            "City Tours\n",
            "Sustainable Tours\n",
            "Historical & Heritage Tours\n",
            "Nature & Wildlife\n",
            "Day Trips\n"
          ],
          "name": "stdout"
        },
        {
          "output_type": "error",
          "ename": "IndexError",
          "evalue": "ignored",
          "traceback": [
            "\u001b[0;31m---------------------------------------------------------------------------\u001b[0m",
            "\u001b[0;31mIndexError\u001b[0m                                Traceback (most recent call last)",
            "\u001b[0;32m<ipython-input-3-179afe8dcd40>\u001b[0m in \u001b[0;36m<module>\u001b[0;34m()\u001b[0m\n\u001b[1;32m      1\u001b[0m \u001b[0mattraction_name\u001b[0m\u001b[0;34m=\u001b[0m\u001b[0ms\u001b[0m\u001b[0;34m.\u001b[0m\u001b[0mfind_all\u001b[0m\u001b[0;34m(\u001b[0m\u001b[0;34m\"div\"\u001b[0m \u001b[0;34m,\u001b[0m\u001b[0;34m{\u001b[0m\u001b[0;34m\"class\"\u001b[0m\u001b[0;34m:\u001b[0m\u001b[0;34m\"attractions-carousel-shelf-ShelfCarouselItem__item_wrapper--3rjPx attractions-carousel-shelf-ShelfCarouselItem__default_width--1ZGAN\"\u001b[0m\u001b[0;34m}\u001b[0m\u001b[0;34m)\u001b[0m\u001b[0;34m\u001b[0m\u001b[0;34m\u001b[0m\u001b[0m\n\u001b[1;32m      2\u001b[0m \u001b[0;32mfor\u001b[0m \u001b[0mi\u001b[0m \u001b[0;32min\u001b[0m \u001b[0mrange\u001b[0m\u001b[0;34m(\u001b[0m\u001b[0;36m0\u001b[0m\u001b[0;34m,\u001b[0m\u001b[0;36m42\u001b[0m\u001b[0;34m)\u001b[0m\u001b[0;34m:\u001b[0m\u001b[0;34m\u001b[0m\u001b[0;34m\u001b[0m\u001b[0m\n\u001b[0;32m----> 3\u001b[0;31m   \u001b[0mprint\u001b[0m\u001b[0;34m(\u001b[0m\u001b[0mattraction_name\u001b[0m\u001b[0;34m[\u001b[0m\u001b[0mi\u001b[0m\u001b[0;34m]\u001b[0m\u001b[0;34m.\u001b[0m\u001b[0mtext\u001b[0m\u001b[0;34m)\u001b[0m\u001b[0;34m\u001b[0m\u001b[0;34m\u001b[0m\u001b[0m\n\u001b[0m",
            "\u001b[0;31mIndexError\u001b[0m: list index out of range"
          ]
        }
      ]
    },
    {
      "cell_type": "code",
      "metadata": {
        "id": "z4-Zw6Q0XCx4",
        "colab_type": "code",
        "outputId": "4f469b66-cf42-423d-9570-4a7105f5b31b",
        "colab": {
          "base_uri": "https://localhost:8080/",
          "height": 34
        }
      },
      "source": [
        "link_attraction=s.find_all(\"div\",{\"class\":\"attractions-carousel-shelf-ShelfCarouselItem__inner_wrapper--2q1xm\"})\n",
        "\"www.tripadvisor.in\"+link_attraction[2].find(\"a\").get(\"href\")"
      ],
      "execution_count": 4,
      "outputs": [
        {
          "output_type": "execute_result",
          "data": {
            "text/plain": [
              "'www.tripadvisor.in/Attractions-g608471-Activities-c47-Alappuzha_Alappuzha_District_Kerala.html'"
            ]
          },
          "metadata": {
            "tags": []
          },
          "execution_count": 4
        }
      ]
    },
    {
      "cell_type": "code",
      "metadata": {
        "id": "TiwpCPHvXC8G",
        "colab_type": "code",
        "colab": {}
      },
      "source": [
        "r11=requests.get(\"https://www.tripadvisor.in/Attractions-g608471-Activities-c57-Alappuzha_Alappuzha_District_Kerala.html\")\n",
        "c11=r11.content\n",
        "s11=BeautifulSoup(c11,\"html.parser\")"
      ],
      "execution_count": 0,
      "outputs": []
    },
    {
      "cell_type": "code",
      "metadata": {
        "id": "rfM3KzFMm51Q",
        "colab_type": "code",
        "outputId": "c5faa5d8-9e36-4994-f6f3-9724324da781",
        "colab": {
          "base_uri": "https://localhost:8080/",
          "height": 34
        }
      },
      "source": [
        "attraction_name_un=s11.find_all(\"h2\")\n",
        "len(attraction_name_un)"
      ],
      "execution_count": 6,
      "outputs": [
        {
          "output_type": "execute_result",
          "data": {
            "text/plain": [
              "13"
            ]
          },
          "metadata": {
            "tags": []
          },
          "execution_count": 6
        }
      ]
    },
    {
      "cell_type": "code",
      "metadata": {
        "id": "d_ezyw1Qab9N",
        "colab_type": "code",
        "colab": {}
      },
      "source": [
        ""
      ],
      "execution_count": 0,
      "outputs": []
    },
    {
      "cell_type": "markdown",
      "metadata": {
        "id": "p205VhtkZuVO",
        "colab_type": "text"
      },
      "source": [
        "# Combining the above in a loop"
      ]
    },
    {
      "cell_type": "code",
      "metadata": {
        "id": "QI3tajnKacCA",
        "colab_type": "code",
        "colab": {}
      },
      "source": [
        "plc=\"https://www.tripadvisor.in/Attractions-g608471-Activities-Alappuzha_Alappuzha_District_Kerala.html https://www.tripadvisor.in/Attractions-g303881-Activities-Munnar_Idukki_District_Kerala.html\"\n",
        "urls=[]\n",
        "urls=list(plc.split(\" \"))\n",
        "urls\n",
        "place_name=[\"Alappuzzha\",\"Munnar\"]\n",
        "# https://www.tripadvisor.in/SmartDeals-g297636-Thekkady_Idukki_District_Kerala-Hotel-Deals.html"
      ],
      "execution_count": 0,
      "outputs": []
    },
    {
      "cell_type": "code",
      "metadata": {
        "id": "srTV7VzwBnrZ",
        "colab_type": "code",
        "colab": {}
      },
      "source": [
        ""
      ],
      "execution_count": 0,
      "outputs": []
    },
    {
      "cell_type": "code",
      "metadata": {
        "id": "rVwUzI-2a1hj",
        "colab_type": "code",
        "colab": {}
      },
      "source": [
        "import pandas as pd\n",
        "df_attract_coverpage_urls=pd.DataFrame(urls,columns=['urls'])\n",
        "# urls=[\"https://www.tripadvisor.in/Hotels-g303881-Munnar_Idukki_District_Kerala-Hotels.html\"]"
      ],
      "execution_count": 0,
      "outputs": []
    },
    {
      "cell_type": "code",
      "metadata": {
        "id": "3Pv5ANo6a2B3",
        "colab_type": "code",
        "outputId": "501da230-a720-49b0-b66c-aacd2fa011e0",
        "colab": {
          "base_uri": "https://localhost:8080/",
          "height": 107
        }
      },
      "source": [
        "#putting urls in dataframe\n",
        "df_attract_coverpage_urls"
      ],
      "execution_count": 9,
      "outputs": [
        {
          "output_type": "execute_result",
          "data": {
            "text/html": [
              "<div>\n",
              "<style scoped>\n",
              "    .dataframe tbody tr th:only-of-type {\n",
              "        vertical-align: middle;\n",
              "    }\n",
              "\n",
              "    .dataframe tbody tr th {\n",
              "        vertical-align: top;\n",
              "    }\n",
              "\n",
              "    .dataframe thead th {\n",
              "        text-align: right;\n",
              "    }\n",
              "</style>\n",
              "<table border=\"1\" class=\"dataframe\">\n",
              "  <thead>\n",
              "    <tr style=\"text-align: right;\">\n",
              "      <th></th>\n",
              "      <th>urls</th>\n",
              "    </tr>\n",
              "  </thead>\n",
              "  <tbody>\n",
              "    <tr>\n",
              "      <th>0</th>\n",
              "      <td>https://www.tripadvisor.in/Attractions-g608471...</td>\n",
              "    </tr>\n",
              "    <tr>\n",
              "      <th>1</th>\n",
              "      <td>https://www.tripadvisor.in/Attractions-g303881...</td>\n",
              "    </tr>\n",
              "  </tbody>\n",
              "</table>\n",
              "</div>"
            ],
            "text/plain": [
              "                                                urls\n",
              "0  https://www.tripadvisor.in/Attractions-g608471...\n",
              "1  https://www.tripadvisor.in/Attractions-g303881..."
            ]
          },
          "metadata": {
            "tags": []
          },
          "execution_count": 9
        }
      ]
    },
    {
      "cell_type": "code",
      "metadata": {
        "id": "2v5sWBFUfnHE",
        "colab_type": "code",
        "colab": {}
      },
      "source": [
        "df_final_attarction=pd.DataFrame(columns=['Tags','links','Name','Location'])"
      ],
      "execution_count": 0,
      "outputs": []
    },
    {
      "cell_type": "code",
      "metadata": {
        "id": "dg0gVW4Fa2PU",
        "colab_type": "code",
        "colab": {}
      },
      "source": [
        "for i in range(len(df_attract_coverpage_urls)) : \n",
        "    link=df_attract_coverpage_urls.iloc[i, 0]\n",
        "    r=requests.get(link)\n",
        "    \n",
        "    c=r.content\n",
        "    s=BeautifulSoup(c,\"html.parser\")\n",
        "    \n",
        "    dictionary_details={}\n",
        "    flag=0\n",
        "\n",
        "    #Cover page is loaded.Entering into the sub-parts\n",
        "    attraction_name=s.find_all(\"div\" ,{\"class\":\"attractions-carousel-shelf-ShelfCarouselItem__item_wrapper--3rjPx attractions-carousel-shelf-ShelfCarouselItem__default_width--1ZGAN\"})\n",
        "    \n",
        "    # minimum=len(attraction_name)\n",
        "\n",
        "    #putting all links in a list. Then list is inserted into dataframe\n",
        "\n",
        "    for j in range(0,len(attraction_name)):\n",
        "        dictionary_details['Tags']=attraction_name[j].text\n",
        "        dictionary_details['Location']=place_name[i]\n",
        "        try:\n",
        "            link_attraction=s.find_all(\"div\",{\"class\":\"attractions-carousel-shelf-ShelfCarouselItem__inner_wrapper--2q1xm\"})\n",
        "            dictionary_details['links']=\"https://www.tripadvisor.in\"+(link_attraction[j]).find(\"a\").get(\"href\")\n",
        "\n",
        "            x=\"https://www.tripadvisor.in\"+(link_attraction[j]).find(\"a\").get(\"href\")\n",
        "\n",
        "            r1=requests.get(x)\n",
        "            c1=r1.content\n",
        "            s1=BeautifulSoup(c1,\"html.parser\")\n",
        "            attraction_name_un=s1.find_all(\"h2\")\n",
        "\n",
        "\n",
        "\n",
        "            mini=15\n",
        "            for k in range(0,min(mini,len(attraction_name_un))):\n",
        "                dictionary_details['Name']=attraction_name_un[k].text\n",
        "                df_final_attarction = df_final_attarction.append(dictionary_details, ignore_index=True)\n",
        "\n",
        "        except:\n",
        "           pass\n",
        "            \n",
        "\n",
        "\n",
        "\n",
        "        #dictionary_details['links']="
      ],
      "execution_count": 0,
      "outputs": []
    },
    {
      "cell_type": "code",
      "metadata": {
        "id": "FGy2FsMrqoxJ",
        "colab_type": "code",
        "outputId": "429c344d-feae-44b2-ada9-fa667940653e",
        "colab": {
          "base_uri": "https://localhost:8080/",
          "height": 197
        }
      },
      "source": [
        "df_final_attarction.head(5)"
      ],
      "execution_count": 15,
      "outputs": [
        {
          "output_type": "execute_result",
          "data": {
            "text/html": [
              "<div>\n",
              "<style scoped>\n",
              "    .dataframe tbody tr th:only-of-type {\n",
              "        vertical-align: middle;\n",
              "    }\n",
              "\n",
              "    .dataframe tbody tr th {\n",
              "        vertical-align: top;\n",
              "    }\n",
              "\n",
              "    .dataframe thead th {\n",
              "        text-align: right;\n",
              "    }\n",
              "</style>\n",
              "<table border=\"1\" class=\"dataframe\">\n",
              "  <thead>\n",
              "    <tr style=\"text-align: right;\">\n",
              "      <th></th>\n",
              "      <th>Tags</th>\n",
              "      <th>links</th>\n",
              "      <th>Name</th>\n",
              "      <th>Location</th>\n",
              "    </tr>\n",
              "  </thead>\n",
              "  <tbody>\n",
              "    <tr>\n",
              "      <th>0</th>\n",
              "      <td>Sacred &amp; Religious Sites</td>\n",
              "      <td>https://www.tripadvisor.in/Attractions-g608471...</td>\n",
              "      <td>Mannarasala Sree Nagaraja Temple</td>\n",
              "      <td>Alappuzzha</td>\n",
              "    </tr>\n",
              "    <tr>\n",
              "      <th>1</th>\n",
              "      <td>Sacred &amp; Religious Sites</td>\n",
              "      <td>https://www.tripadvisor.in/Attractions-g608471...</td>\n",
              "      <td>Ambalapuzha Sree Krishna Temple</td>\n",
              "      <td>Alappuzzha</td>\n",
              "    </tr>\n",
              "    <tr>\n",
              "      <th>2</th>\n",
              "      <td>Sacred &amp; Religious Sites</td>\n",
              "      <td>https://www.tripadvisor.in/Attractions-g608471...</td>\n",
              "      <td>Sree Subramanya Swami Temple</td>\n",
              "      <td>Alappuzzha</td>\n",
              "    </tr>\n",
              "    <tr>\n",
              "      <th>3</th>\n",
              "      <td>Sacred &amp; Religious Sites</td>\n",
              "      <td>https://www.tripadvisor.in/Attractions-g608471...</td>\n",
              "      <td>St. Andrew's Basilica Arthunkal</td>\n",
              "      <td>Alappuzzha</td>\n",
              "    </tr>\n",
              "    <tr>\n",
              "      <th>4</th>\n",
              "      <td>Sacred &amp; Religious Sites</td>\n",
              "      <td>https://www.tripadvisor.in/Attractions-g608471...</td>\n",
              "      <td>Mullakkal Rajeshwari Temple</td>\n",
              "      <td>Alappuzzha</td>\n",
              "    </tr>\n",
              "  </tbody>\n",
              "</table>\n",
              "</div>"
            ],
            "text/plain": [
              "                       Tags  ...    Location\n",
              "0  Sacred & Religious Sites  ...  Alappuzzha\n",
              "1  Sacred & Religious Sites  ...  Alappuzzha\n",
              "2  Sacred & Religious Sites  ...  Alappuzzha\n",
              "3  Sacred & Religious Sites  ...  Alappuzzha\n",
              "4  Sacred & Religious Sites  ...  Alappuzzha\n",
              "\n",
              "[5 rows x 4 columns]"
            ]
          },
          "metadata": {
            "tags": []
          },
          "execution_count": 15
        }
      ]
    },
    {
      "cell_type": "code",
      "metadata": {
        "id": "eLXS9k-ga2Wt",
        "colab_type": "code",
        "colab": {}
      },
      "source": [
        "    df_final_attarction.to_csv('Attraction.csv',index=False, encoding = 'utf-8')"
      ],
      "execution_count": 0,
      "outputs": []
    },
    {
      "cell_type": "code",
      "metadata": {
        "id": "8sC6ajSyCTZl",
        "colab_type": "code",
        "colab": {}
      },
      "source": [
        ""
      ],
      "execution_count": 0,
      "outputs": []
    }
  ]
}