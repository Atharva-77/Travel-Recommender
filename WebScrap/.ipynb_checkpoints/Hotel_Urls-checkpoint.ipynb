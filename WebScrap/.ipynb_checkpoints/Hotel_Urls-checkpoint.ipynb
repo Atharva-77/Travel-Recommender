{
 "cells": [
  {
   "cell_type": "code",
   "execution_count": 19,
   "metadata": {},
   "outputs": [],
   "source": [
    "from bs4 import BeautifulSoup\n",
    "import requests\n",
    "r=requests.get(\"https://www.tripadvisor.in/Hotels-g608471-Alappuzha_Alappuzha_District_Kerala-Hotels.html\")"
   ]
  },
  {
   "cell_type": "code",
   "execution_count": 20,
   "metadata": {},
   "outputs": [
    {
     "data": {
      "text/plain": [
       "<Response [200]>"
      ]
     },
     "execution_count": 20,
     "metadata": {},
     "output_type": "execute_result"
    }
   ],
   "source": [
    "r"
   ]
  },
  {
   "cell_type": "code",
   "execution_count": 21,
   "metadata": {},
   "outputs": [
    {
     "data": {
      "text/plain": [
       "1783431"
      ]
     },
     "execution_count": 21,
     "metadata": {},
     "output_type": "execute_result"
    }
   ],
   "source": [
    "c=r.content\n",
    "len(c)"
   ]
  },
  {
   "cell_type": "code",
   "execution_count": 22,
   "metadata": {},
   "outputs": [
    {
     "data": {
      "text/plain": [
       "233"
      ]
     },
     "execution_count": 22,
     "metadata": {},
     "output_type": "execute_result"
    }
   ],
   "source": [
    "s=BeautifulSoup(c,\"html.parser\")\n",
    "len(s)"
   ]
  },
  {
   "cell_type": "code",
   "execution_count": 23,
   "metadata": {},
   "outputs": [
    {
     "name": "stdout",
     "output_type": "stream",
     "text": [
      "30 /Hotel_Review-g608471-d12130064-Reviews-Lake_Canopy-Alappuzha_Alappuzha_District_Kerala.html\n"
     ]
    }
   ],
   "source": [
    "name=s.find_all(\"div\",{\"class\":\"listing_title\"})\n",
    "\n",
    "print(len(name),name[0].find('a').get('href'))"
   ]
  },
  {
   "cell_type": "code",
   "execution_count": 24,
   "metadata": {},
   "outputs": [
    {
     "data": {
      "text/plain": [
       "10"
      ]
     },
     "execution_count": 24,
     "metadata": {},
     "output_type": "execute_result"
    }
   ],
   "source": [
    "minimum=min(len(name),10)\n",
    "minimum"
   ]
  },
  {
   "cell_type": "code",
   "execution_count": 25,
   "metadata": {},
   "outputs": [],
   "source": [
    "#putting all links in a list. Then list is inserted into dataframe\n",
    "list_urls=[]\n",
    "for i in range(0,minimum):\n",
    "    list_urls.append(\"https://www.tripadvisor.in\"+name[i].find('a').get('href'))"
   ]
  },
  {
   "cell_type": "code",
   "execution_count": null,
   "metadata": {},
   "outputs": [],
   "source": []
  },
  {
   "cell_type": "code",
   "execution_count": 26,
   "metadata": {},
   "outputs": [],
   "source": [
    "import pandas as pd"
   ]
  },
  {
   "cell_type": "code",
   "execution_count": 27,
   "metadata": {},
   "outputs": [
    {
     "data": {
      "text/html": [
       "<div>\n",
       "<style scoped>\n",
       "    .dataframe tbody tr th:only-of-type {\n",
       "        vertical-align: middle;\n",
       "    }\n",
       "\n",
       "    .dataframe tbody tr th {\n",
       "        vertical-align: top;\n",
       "    }\n",
       "\n",
       "    .dataframe thead th {\n",
       "        text-align: right;\n",
       "    }\n",
       "</style>\n",
       "<table border=\"1\" class=\"dataframe\">\n",
       "  <thead>\n",
       "    <tr style=\"text-align: right;\">\n",
       "      <th></th>\n",
       "      <th>Hotel Links</th>\n",
       "    </tr>\n",
       "  </thead>\n",
       "  <tbody>\n",
       "    <tr>\n",
       "      <th>0</th>\n",
       "      <td>https://www.tripadvisor.in/Hotel_Review-g60847...</td>\n",
       "    </tr>\n",
       "    <tr>\n",
       "      <th>1</th>\n",
       "      <td>https://www.tripadvisor.in/Hotel_Review-g60847...</td>\n",
       "    </tr>\n",
       "    <tr>\n",
       "      <th>2</th>\n",
       "      <td>https://www.tripadvisor.in/Hotel_Review-g60847...</td>\n",
       "    </tr>\n",
       "    <tr>\n",
       "      <th>3</th>\n",
       "      <td>https://www.tripadvisor.in/Hotel_Review-g60847...</td>\n",
       "    </tr>\n",
       "    <tr>\n",
       "      <th>4</th>\n",
       "      <td>https://www.tripadvisor.in/Hotel_Review-g60847...</td>\n",
       "    </tr>\n",
       "    <tr>\n",
       "      <th>5</th>\n",
       "      <td>https://www.tripadvisor.in/Hotel_Review-g60847...</td>\n",
       "    </tr>\n",
       "    <tr>\n",
       "      <th>6</th>\n",
       "      <td>https://www.tripadvisor.in/Hotel_Review-g60847...</td>\n",
       "    </tr>\n",
       "    <tr>\n",
       "      <th>7</th>\n",
       "      <td>https://www.tripadvisor.in/Hotel_Review-g60847...</td>\n",
       "    </tr>\n",
       "    <tr>\n",
       "      <th>8</th>\n",
       "      <td>https://www.tripadvisor.in/Hotel_Review-g60847...</td>\n",
       "    </tr>\n",
       "    <tr>\n",
       "      <th>9</th>\n",
       "      <td>https://www.tripadvisor.in/Hotel_Review-g60847...</td>\n",
       "    </tr>\n",
       "  </tbody>\n",
       "</table>\n",
       "</div>"
      ],
      "text/plain": [
       "                                         Hotel Links\n",
       "0  https://www.tripadvisor.in/Hotel_Review-g60847...\n",
       "1  https://www.tripadvisor.in/Hotel_Review-g60847...\n",
       "2  https://www.tripadvisor.in/Hotel_Review-g60847...\n",
       "3  https://www.tripadvisor.in/Hotel_Review-g60847...\n",
       "4  https://www.tripadvisor.in/Hotel_Review-g60847...\n",
       "5  https://www.tripadvisor.in/Hotel_Review-g60847...\n",
       "6  https://www.tripadvisor.in/Hotel_Review-g60847...\n",
       "7  https://www.tripadvisor.in/Hotel_Review-g60847...\n",
       "8  https://www.tripadvisor.in/Hotel_Review-g60847...\n",
       "9  https://www.tripadvisor.in/Hotel_Review-g60847..."
      ]
     },
     "execution_count": 27,
     "metadata": {},
     "output_type": "execute_result"
    }
   ],
   "source": [
    "df_hotel_urls=pd.DataFrame(list_urls,columns=['Hotel Links'])\n",
    "# df_hotel_urls = df_hotel_urls.append({'names': \"yo\"}, ignore_index=True)\n",
    "\n",
    "\n",
    "df_hotel_urls"
   ]
  },
  {
   "cell_type": "code",
   "execution_count": 34,
   "metadata": {},
   "outputs": [],
   "source": [
    "import time"
   ]
  },
  {
   "cell_type": "code",
   "execution_count": 35,
   "metadata": {},
   "outputs": [],
   "source": [
    "import pandas as pd\n",
    "df_each_hotel=pd.DataFrame(columns=['Hotel Names','Price','Rating','Amenities','Info','Attractions','Address','City'])"
   ]
  },
  {
   "cell_type": "code",
   "execution_count": 36,
   "metadata": {},
   "outputs": [],
   "source": [
    "for i in range(len(df_hotel_urls)) : \n",
    "    link=df_hotel_urls.iloc[i, 0]\n",
    "    r=requests.get(link)\n",
    "    \n",
    "    c=r.content\n",
    "    s=BeautifulSoup(c,\"html.parser\")\n",
    "    \n",
    "    dictionary_details={}\n",
    "    \n",
    "    #City\n",
    "    list_place=[]\n",
    "    place=s.find_all(\"span\",{\"class\":\"hotels-hotel-review-about-with-photos-PopIndex__popIndex--zNSxv\"})\n",
    "    list_place=list(place[0].text.split(\" \"))\n",
    "    dictionary_details['City']=list_place[-1]#last one is always place name\n",
    "    \n",
    "    #Hotel Name\n",
    "    name=s.find_all(\"h1\")\n",
    "    dictionary_details['Hotel Names']=name[1].text\n",
    "\n",
    "    #Price\n",
    "    try:\n",
    "        price=s.find_all(\"div\" ,{\"class\":\"hotels-hotel-offers-DominantOffer__price--D-ycN\"})\n",
    "        dictionary_details['Price']=price[0].text[2:]\n",
    "    except:\n",
    "        price=s.find_all(\"div\" ,{\"class\":\"hotels-hotel-offers-DetailChevronOffer__price--py2LH\"})\n",
    "        dictionary_details['Price']=price[0].text[2:]\n",
    "    \n",
    "    #Ratinf\n",
    "    rating=s.find_all(\"span\" ,{\"class\":\"hotels-hotel-review-about-with-photos-Reviews__overallRating--vElGA\"})\n",
    "    dictionary_details['Rating']=rating[0].text\n",
    "    \n",
    "    #Aminitis\n",
    "    amenities=s.find_all(\"div\" ,{\"class\":\"hotels-hr-about-amenities-AmenityGroup__amenitiesList--3MdFn\"})\n",
    "    dictionary_details['Amenities']=amenities[0].text\n",
    "    \n",
    "    #INfo\n",
    "    info=s.find_all(\"div\" ,{\"class\":\"cPQsENeY\"})\n",
    "    dictionary_details['Info']=info[0].text\n",
    "    \n",
    "    #Attractions\n",
    "#     print(attractions_nearby[4:][0].text,\",\", attractions_nearby[4:][1].text,\",\",\n",
    "#     attractions_nearby[4:][2].text,\",\", attractions_nearby[4:][3].text)\n",
    "#     len(attractions_nearby[4:])\n",
    "    try:\n",
    "        attractions_nearby=s.find_all(\"div\" ,{\"class\":\"hotels-hotel-review-location-NearbyLocation__name--1pAvV\"})\n",
    "        Full_Attraction=\"\"\n",
    "        Full_Attraction=attractions_nearby[4:][0].text, attractions_nearby[4:][1].text,attractions_nearby[4:][2].text, attractions_nearby[4:][3].text\n",
    "        dictionary_details['Attractions']=Full_Attraction\n",
    "    \n",
    "    except:\n",
    "        dictionary_details['Attractions']=float('Nan')\n",
    "\n",
    "\n",
    "    \n",
    "\n",
    "    #add\n",
    "    address=s.find_all(\"span\" ,{\"class\":\"public-business-listing-ContactInfo__ui_link--1_7Zp public-business-listing-ContactInfo__level_4--3JgmI\"})\n",
    "    dictionary_details['Address']=address[0].text\n",
    "\n",
    "    \n",
    "    df_each_hotel=df_each_hotel.append(dictionary_details,ignore_index=True)\n",
    "    \n",
    "    time.sleep(3)\n",
    "    \n"
   ]
  },
  {
   "cell_type": "code",
   "execution_count": 38,
   "metadata": {},
   "outputs": [
    {
     "data": {
      "text/html": [
       "<div>\n",
       "<style scoped>\n",
       "    .dataframe tbody tr th:only-of-type {\n",
       "        vertical-align: middle;\n",
       "    }\n",
       "\n",
       "    .dataframe tbody tr th {\n",
       "        vertical-align: top;\n",
       "    }\n",
       "\n",
       "    .dataframe thead th {\n",
       "        text-align: right;\n",
       "    }\n",
       "</style>\n",
       "<table border=\"1\" class=\"dataframe\">\n",
       "  <thead>\n",
       "    <tr style=\"text-align: right;\">\n",
       "      <th></th>\n",
       "      <th>Hotel Names</th>\n",
       "      <th>Price</th>\n",
       "      <th>Rating</th>\n",
       "      <th>Amenities</th>\n",
       "      <th>Info</th>\n",
       "      <th>Attractions</th>\n",
       "      <th>Address</th>\n",
       "      <th>City</th>\n",
       "    </tr>\n",
       "  </thead>\n",
       "  <tbody>\n",
       "    <tr>\n",
       "      <th>0</th>\n",
       "      <td>Lake Canopy</td>\n",
       "      <td>6,528</td>\n",
       "      <td>5.0</td>\n",
       "      <td>Free parkingFree High Speed Internet (WiFi)Fit...</td>\n",
       "      <td>Lake Canopy strategically located in Punnamada...</td>\n",
       "      <td>(Kerala Backwaters, Mararikulam Beach, Alleppe...</td>\n",
       "      <td>Aspinwall Road Komalapuram, North Aaryad P.O, ...</td>\n",
       "      <td>Alappuzha</td>\n",
       "    </tr>\n",
       "    <tr>\n",
       "      <th>1</th>\n",
       "      <td>Uday Backwater Resort</td>\n",
       "      <td>8,990</td>\n",
       "      <td>5.0</td>\n",
       "      <td>Free parkingFree High Speed Internet (WiFi)Fit...</td>\n",
       "      <td>Uday backwater Resort in Alleppy is a destinat...</td>\n",
       "      <td>(Kerala Backwaters, Mararikulam Beach, Alleppe...</td>\n",
       "      <td>1x /2A - Avalookunnu .P.O,Punnamada Near punna...</td>\n",
       "      <td>Alappuzha</td>\n",
       "    </tr>\n",
       "    <tr>\n",
       "      <th>2</th>\n",
       "      <td>Warmth Lake Haven</td>\n",
       "      <td>4,367</td>\n",
       "      <td>4.5</td>\n",
       "      <td>Free parkingFree High Speed Internet (WiFi)Poo...</td>\n",
       "      <td>Warmth Lake Haven, a solitary island situated ...</td>\n",
       "      <td>(Ambalapuzha Sree Krishna Temple, Revi Karunak...</td>\n",
       "      <td>Near Pulikkakaavu Temple Chempumpuram, Alappuz...</td>\n",
       "      <td>Alappuzha</td>\n",
       "    </tr>\n",
       "    <tr>\n",
       "      <th>3</th>\n",
       "      <td>Ramada by Wyndham Alleppey</td>\n",
       "      <td>3,238</td>\n",
       "      <td>4.0</td>\n",
       "      <td>Free parkingFree High Speed Internet (WiFi)Fit...</td>\n",
       "      <td>A picturesque 5 Star Classified Resort Hotel a...</td>\n",
       "      <td>NaN</td>\n",
       "      <td>Nehru Trophy Finishing Point Punnamada, Alappu...</td>\n",
       "      <td>Alappuzha</td>\n",
       "    </tr>\n",
       "    <tr>\n",
       "      <th>4</th>\n",
       "      <td>Oxygen Resorts Alleppey</td>\n",
       "      <td>3,480</td>\n",
       "      <td>5.0</td>\n",
       "      <td>Free parkingFree internetFitness Centre with G...</td>\n",
       "      <td>Oxygen Resorts Allepey is set amidst the tropi...</td>\n",
       "      <td>NaN</td>\n",
       "      <td>Boat Jetty Road Finishing Point, Alappuzha 688...</td>\n",
       "      <td>Alappuzha</td>\n",
       "    </tr>\n",
       "    <tr>\n",
       "      <th>5</th>\n",
       "      <td>Kalappura Homestay</td>\n",
       "      <td>999</td>\n",
       "      <td>5.0</td>\n",
       "      <td>Free parkingFree High Speed Internet (WiFi)Fre...</td>\n",
       "      <td>Kalappura homestay is situated in a peaceful &amp;...</td>\n",
       "      <td>NaN</td>\n",
       "      <td>Kalappurackal House Mullackal Road 1 km east o...</td>\n",
       "      <td>Alappuzha</td>\n",
       "    </tr>\n",
       "    <tr>\n",
       "      <th>6</th>\n",
       "      <td>Punnamada Resort</td>\n",
       "      <td>8,346</td>\n",
       "      <td>4.5</td>\n",
       "      <td>Free parkingFree High Speed Internet (WiFi)Poo...</td>\n",
       "      <td>Punnamada Resorts is nestled on the serene ban...</td>\n",
       "      <td>(Kerala Backwaters, Mararikulam Beach, Alleppe...</td>\n",
       "      <td>Alleppey 6 Punnamada Resort Private Limited, A...</td>\n",
       "      <td>Alappuzha</td>\n",
       "    </tr>\n",
       "    <tr>\n",
       "      <th>7</th>\n",
       "      <td>Haven Alleppey Beach Villa</td>\n",
       "      <td>3,773</td>\n",
       "      <td>5.0</td>\n",
       "      <td>Free parkingFree High Speed Internet (WiFi)Poo...</td>\n",
       "      <td>Leave Your World Behind. Enjoy your holiday wi...</td>\n",
       "      <td>NaN</td>\n",
       "      <td>Kanjiramchira, Alappuzha 688007 India</td>\n",
       "      <td>Alappuzha</td>\n",
       "    </tr>\n",
       "    <tr>\n",
       "      <th>8</th>\n",
       "      <td>Cosy Houseboats</td>\n",
       "      <td>8,092</td>\n",
       "      <td>4.5</td>\n",
       "      <td>Secured parkingPublic wifiFree breakfastBicycl...</td>\n",
       "      <td>Traditionally, the houseboat was called Kettuv...</td>\n",
       "      <td>NaN</td>\n",
       "      <td>Finishing point Cosy Regency, Finishing Point,...</td>\n",
       "      <td>Alappuzha</td>\n",
       "    </tr>\n",
       "    <tr>\n",
       "      <th>9</th>\n",
       "      <td>Kondai Lip Backwater Heritage Resort</td>\n",
       "      <td>5,005</td>\n",
       "      <td>4.5</td>\n",
       "      <td>Free parkingFree internetPool with viewFree br...</td>\n",
       "      <td>Turn off the highway to Alleppey, onto a narro...</td>\n",
       "      <td>NaN</td>\n",
       "      <td>Karumanchery Holiday Resorts Pvt Ltd Ezhupunna...</td>\n",
       "      <td>Alappuzha</td>\n",
       "    </tr>\n",
       "  </tbody>\n",
       "</table>\n",
       "</div>"
      ],
      "text/plain": [
       "                            Hotel Names  Price Rating  \\\n",
       "0                           Lake Canopy  6,528    5.0   \n",
       "1                 Uday Backwater Resort  8,990    5.0   \n",
       "2                     Warmth Lake Haven  4,367    4.5   \n",
       "3            Ramada by Wyndham Alleppey  3,238    4.0   \n",
       "4               Oxygen Resorts Alleppey  3,480    5.0   \n",
       "5                    Kalappura Homestay    999    5.0   \n",
       "6                      Punnamada Resort  8,346    4.5   \n",
       "7            Haven Alleppey Beach Villa  3,773    5.0   \n",
       "8                       Cosy Houseboats  8,092    4.5   \n",
       "9  Kondai Lip Backwater Heritage Resort  5,005    4.5   \n",
       "\n",
       "                                           Amenities  \\\n",
       "0  Free parkingFree High Speed Internet (WiFi)Fit...   \n",
       "1  Free parkingFree High Speed Internet (WiFi)Fit...   \n",
       "2  Free parkingFree High Speed Internet (WiFi)Poo...   \n",
       "3  Free parkingFree High Speed Internet (WiFi)Fit...   \n",
       "4  Free parkingFree internetFitness Centre with G...   \n",
       "5  Free parkingFree High Speed Internet (WiFi)Fre...   \n",
       "6  Free parkingFree High Speed Internet (WiFi)Poo...   \n",
       "7  Free parkingFree High Speed Internet (WiFi)Poo...   \n",
       "8  Secured parkingPublic wifiFree breakfastBicycl...   \n",
       "9  Free parkingFree internetPool with viewFree br...   \n",
       "\n",
       "                                                Info  \\\n",
       "0  Lake Canopy strategically located in Punnamada...   \n",
       "1  Uday backwater Resort in Alleppy is a destinat...   \n",
       "2  Warmth Lake Haven, a solitary island situated ...   \n",
       "3  A picturesque 5 Star Classified Resort Hotel a...   \n",
       "4  Oxygen Resorts Allepey is set amidst the tropi...   \n",
       "5  Kalappura homestay is situated in a peaceful &...   \n",
       "6  Punnamada Resorts is nestled on the serene ban...   \n",
       "7  Leave Your World Behind. Enjoy your holiday wi...   \n",
       "8  Traditionally, the houseboat was called Kettuv...   \n",
       "9  Turn off the highway to Alleppey, onto a narro...   \n",
       "\n",
       "                                         Attractions  \\\n",
       "0  (Kerala Backwaters, Mararikulam Beach, Alleppe...   \n",
       "1  (Kerala Backwaters, Mararikulam Beach, Alleppe...   \n",
       "2  (Ambalapuzha Sree Krishna Temple, Revi Karunak...   \n",
       "3                                                NaN   \n",
       "4                                                NaN   \n",
       "5                                                NaN   \n",
       "6  (Kerala Backwaters, Mararikulam Beach, Alleppe...   \n",
       "7                                                NaN   \n",
       "8                                                NaN   \n",
       "9                                                NaN   \n",
       "\n",
       "                                             Address       City  \n",
       "0  Aspinwall Road Komalapuram, North Aaryad P.O, ...  Alappuzha  \n",
       "1  1x /2A - Avalookunnu .P.O,Punnamada Near punna...  Alappuzha  \n",
       "2  Near Pulikkakaavu Temple Chempumpuram, Alappuz...  Alappuzha  \n",
       "3  Nehru Trophy Finishing Point Punnamada, Alappu...  Alappuzha  \n",
       "4  Boat Jetty Road Finishing Point, Alappuzha 688...  Alappuzha  \n",
       "5  Kalappurackal House Mullackal Road 1 km east o...  Alappuzha  \n",
       "6  Alleppey 6 Punnamada Resort Private Limited, A...  Alappuzha  \n",
       "7              Kanjiramchira, Alappuzha 688007 India  Alappuzha  \n",
       "8  Finishing point Cosy Regency, Finishing Point,...  Alappuzha  \n",
       "9  Karumanchery Holiday Resorts Pvt Ltd Ezhupunna...  Alappuzha  "
      ]
     },
     "execution_count": 38,
     "metadata": {},
     "output_type": "execute_result"
    }
   ],
   "source": [
    "df_each_hotel"
   ]
  },
  {
   "cell_type": "code",
   "execution_count": 41,
   "metadata": {},
   "outputs": [],
   "source": [
    "df_each_hotel.to_csv('Travel_Rec.csv',index=False, encoding = 'utf-8')"
   ]
  },
  {
   "cell_type": "code",
   "execution_count": null,
   "metadata": {},
   "outputs": [],
   "source": []
  }
 ],
 "metadata": {
  "kernelspec": {
   "display_name": "Python 3",
   "language": "python",
   "name": "python3"
  },
  "language_info": {
   "codemirror_mode": {
    "name": "ipython",
    "version": 3
   },
   "file_extension": ".py",
   "mimetype": "text/x-python",
   "name": "python",
   "nbconvert_exporter": "python",
   "pygments_lexer": "ipython3",
   "version": "3.7.3"
  }
 },
 "nbformat": 4,
 "nbformat_minor": 2
}
